{
  "nbformat": 4,
  "nbformat_minor": 0,
  "metadata": {
    "colab": {
      "name": "data_preprocessing.ipynb",
      "version": "0.3.2",
      "provenance": [],
      "collapsed_sections": [],
      "include_colab_link": true
    },
    "kernelspec": {
      "name": "python3",
      "display_name": "Python 3"
    }
  },
  "cells": [
    {
      "cell_type": "markdown",
      "metadata": {
        "id": "view-in-github",
        "colab_type": "text"
      },
      "source": [
        "<a href=\"https://colab.research.google.com/github/ramprasathasokan/ML-AZ/blob/master/data_preprocessing.ipynb\" target=\"_parent\"><img src=\"https://colab.research.google.com/assets/colab-badge.svg\" alt=\"Open In Colab\"/></a>"
      ]
    },
    {
      "cell_type": "markdown",
      "metadata": {
        "id": "aQl-QvslKlNr",
        "colab_type": "text"
      },
      "source": [
        "# Data Preprocessing"
      ]
    },
    {
      "cell_type": "markdown",
      "metadata": {
        "id": "BaxsfnQ7QenP",
        "colab_type": "text"
      },
      "source": [
        "**Mounting dataset's path in Google Drive**"
      ]
    },
    {
      "cell_type": "code",
      "metadata": {
        "id": "NijaeyceKj5O",
        "colab_type": "code",
        "outputId": "5f5f1cd2-fe47-48eb-f405-c05781c12f68",
        "colab": {
          "base_uri": "https://localhost:8080/",
          "height": 55
        }
      },
      "source": [
        "from google.colab import drive\n",
        "drive.mount('/content/drive')"
      ],
      "execution_count": 0,
      "outputs": [
        {
          "output_type": "stream",
          "text": [
            "Drive already mounted at /content/drive; to attempt to forcibly remount, call drive.mount(\"/content/drive\", force_remount=True).\n"
          ],
          "name": "stdout"
        }
      ]
    },
    {
      "cell_type": "code",
      "metadata": {
        "id": "Q4n_Q7TALIiW",
        "colab_type": "code",
        "colab": {}
      },
      "source": [
        "Data_path = '/content/drive/My Drive/ML/Part 1 - Data Preprocessing/Data.csv'"
      ],
      "execution_count": 0,
      "outputs": []
    },
    {
      "cell_type": "markdown",
      "metadata": {
        "id": "TFMediB8LB8e",
        "colab_type": "text"
      },
      "source": [
        "**Importing the libraries**"
      ]
    },
    {
      "cell_type": "code",
      "metadata": {
        "id": "aJXqaoiSLGrA",
        "colab_type": "code",
        "colab": {}
      },
      "source": [
        "import numpy as np\n",
        "import matplotlib.pyplot as plt\n",
        "import pandas as pd"
      ],
      "execution_count": 0,
      "outputs": []
    },
    {
      "cell_type": "markdown",
      "metadata": {
        "id": "IJpnjDRRLiMG",
        "colab_type": "text"
      },
      "source": [
        "**Importing the dataset**"
      ]
    },
    {
      "cell_type": "code",
      "metadata": {
        "id": "Njkp9wGKLYr0",
        "colab_type": "code",
        "colab": {}
      },
      "source": [
        "dataset = pd.read_csv(Data_path)\n",
        "X = dataset.iloc[:, :-1].values\n",
        "y = dataset.iloc[:, 3].values"
      ],
      "execution_count": 0,
      "outputs": []
    },
    {
      "cell_type": "markdown",
      "metadata": {
        "id": "7UKap_CmM2JY",
        "colab_type": "text"
      },
      "source": [
        "**Taking care of missing data**"
      ]
    },
    {
      "cell_type": "code",
      "metadata": {
        "id": "ceayG7sJM4SR",
        "colab_type": "code",
        "colab": {}
      },
      "source": [
        "from sklearn.impute import SimpleImputer"
      ],
      "execution_count": 0,
      "outputs": []
    },
    {
      "cell_type": "code",
      "metadata": {
        "id": "hSxcsRQQdHEO",
        "colab_type": "code",
        "colab": {}
      },
      "source": [
        "imp_mean = SimpleImputer(missing_values = np.nan, strategy = 'mean')\n",
        "X[:, 1:3] = imp_mean.fit_transform(X[:, 1:3])"
      ],
      "execution_count": 0,
      "outputs": []
    },
    {
      "cell_type": "markdown",
      "metadata": {
        "id": "FLPfvStYN5H-",
        "colab_type": "text"
      },
      "source": [
        "**Encoding categorical data**"
      ]
    },
    {
      "cell_type": "code",
      "metadata": {
        "id": "q5PX3ElNNzUF",
        "colab_type": "code",
        "colab": {}
      },
      "source": [
        "from sklearn.preprocessing import LabelEncoder, OneHotEncoder\n",
        "from sklearn.compose import ColumnTransformer"
      ],
      "execution_count": 0,
      "outputs": []
    },
    {
      "cell_type": "markdown",
      "metadata": {
        "id": "HjXkNS61gZ0D",
        "colab_type": "text"
      },
      "source": [
        "Encoding X with dummy encoding"
      ]
    },
    {
      "cell_type": "code",
      "metadata": {
        "id": "VAVeU9wtdQXw",
        "colab_type": "code",
        "colab": {}
      },
      "source": [
        "ct_X0 = ColumnTransformer([(\"onehotencoder\", OneHotEncoder(), [0])], remainder=\"passthrough\")\n",
        "X = ct_X0.fit_transform(X)"
      ],
      "execution_count": 0,
      "outputs": []
    },
    {
      "cell_type": "markdown",
      "metadata": {
        "id": "-WPhR2vegeIa",
        "colab_type": "text"
      },
      "source": [
        "Simple encoding of Y"
      ]
    },
    {
      "cell_type": "code",
      "metadata": {
        "id": "y1mgc4NIakMQ",
        "colab_type": "code",
        "colab": {}
      },
      "source": [
        "labelencoder_y = LabelEncoder()\n",
        "y = labelencoder_y.fit_transform(y)"
      ],
      "execution_count": 0,
      "outputs": []
    },
    {
      "cell_type": "markdown",
      "metadata": {
        "id": "HA3hE14AhmXw",
        "colab_type": "text"
      },
      "source": [
        "**Splitting the Dataset into Training set and Test set**"
      ]
    },
    {
      "cell_type": "code",
      "metadata": {
        "id": "XH-bSa71gMGN",
        "colab_type": "code",
        "colab": {}
      },
      "source": [
        "from sklearn.model_selection import train_test_split"
      ],
      "execution_count": 0,
      "outputs": []
    },
    {
      "cell_type": "code",
      "metadata": {
        "id": "P4d6WGZQhlJ8",
        "colab_type": "code",
        "colab": {}
      },
      "source": [
        "X_train, X_test, y_train, y_test = train_test_split(X, y, test_size = 0.2, random_state = 0)"
      ],
      "execution_count": 0,
      "outputs": []
    },
    {
      "cell_type": "markdown",
      "metadata": {
        "id": "fX4yfu8xmKUX",
        "colab_type": "text"
      },
      "source": [
        "**Feature Scaling**"
      ]
    },
    {
      "cell_type": "code",
      "metadata": {
        "id": "y6RikOP9mPSG",
        "colab_type": "code",
        "colab": {}
      },
      "source": [
        "from sklearn.preprocessing import StandardScaler"
      ],
      "execution_count": 0,
      "outputs": []
    },
    {
      "cell_type": "code",
      "metadata": {
        "id": "phil0HRwnKzS",
        "colab_type": "code",
        "colab": {}
      },
      "source": [
        "sc_X = StandardScaler()\n",
        "X_train = sc_X.fit_transform(X_train)\n",
        "X_test = sc_X.transform(X_test)"
      ],
      "execution_count": 0,
      "outputs": []
    }
  ]
}